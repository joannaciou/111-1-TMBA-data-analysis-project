{
 "cells": [
  {
   "cell_type": "code",
   "execution_count": 5,
   "id": "7e433fc0",
   "metadata": {},
   "outputs": [],
   "source": [
    "import scipy\n",
    "import datetime\n",
    "import numpy as np\n",
    "import pandas as pd\n",
    "import seaborn as sns\n",
    "import matplotlib.pyplot as plt\n",
    "\n",
    "from sklearn.preprocessing import StandardScaler, MinMaxScaler, OneHotEncoder\n",
    "from sklearn.compose import ColumnTransformer\n",
    "from sklearn.model_selection import train_test_split\n",
    "from sklearn.linear_model import LinearRegression"
   ]
  },
  {
   "cell_type": "code",
   "execution_count": 6,
   "id": "029c9a26",
   "metadata": {},
   "outputs": [],
   "source": [
    "df = pd.read_excel(\"知識_教育_top500_revised.xlsx\", engine='openpyxl')\n",
    "# df2 = pd.read_excel(\"影視_top500_revised.xlsx\", engine='openpyxl')\n",
    "# df = pd.concat([df1, df2])"
   ]
  },
  {
   "cell_type": "code",
   "execution_count": 7,
   "id": "1b196f76",
   "metadata": {},
   "outputs": [
    {
     "name": "stdout",
     "output_type": "stream",
     "text": [
      "<class 'pandas.core.frame.DataFrame'>\n",
      "RangeIndex: 1500 entries, 0 to 1499\n",
      "Data columns (total 11 columns):\n",
      " #   Column          Non-Null Count  Dtype         \n",
      "---  ------          --------------  -----         \n",
      " 0   rank            1500 non-null   int64         \n",
      " 1   channel_title   1500 non-null   object        \n",
      " 2   video_title     1500 non-null   object        \n",
      " 3   published_time  1500 non-null   datetime64[ns]\n",
      " 4   category        1500 non-null   int64         \n",
      " 5   tags            1343 non-null   object        \n",
      " 6   description     1487 non-null   object        \n",
      " 7   view            1500 non-null   float64       \n",
      " 8   likes           1500 non-null   int64         \n",
      " 9   comments        1500 non-null   int64         \n",
      " 10  duration        1500 non-null   object        \n",
      "dtypes: datetime64[ns](1), float64(1), int64(4), object(5)\n",
      "memory usage: 129.0+ KB\n"
     ]
    }
   ],
   "source": [
    "df.info()"
   ]
  },
  {
   "cell_type": "code",
   "execution_count": 8,
   "id": "9a9bed5f",
   "metadata": {},
   "outputs": [],
   "source": [
    "df['duration_sec'] = df['duration'].map(lambda x: x.hour*3600 + x.minute*60 + x.second)\n",
    "df['tags_num'] = df['tags'].map(lambda x: len(str(x).split(',')))\n",
    "df['title_len'] = df['channel_title'].map(lambda x: len(x))"
   ]
  },
  {
   "cell_type": "code",
   "execution_count": 9,
   "id": "87ca9689",
   "metadata": {},
   "outputs": [
    {
     "data": {
      "image/png": "[encoded data removed]",
      "text/plain": [
       "<Figure size 1152x720 with 2 Axes>"
      ]
     },
     "metadata": {
      "needs_background": "light"
     },
     "output_type": "display_data"
    }
   ],
   "source": [
    "features = ['likes', 'comments', 'tags_num', 'title_len', 'duration_sec']\n",
    "corr_= df[features].corr()\n",
    "plt.figure(figsize=(16,10))\n",
    "sns.heatmap(corr_, annot=True, fmt = \".2f\", cmap = \"BuPu\");"
   ]
  },
  {
   "cell_type": "code",
   "execution_count": 10,
   "id": "5e200685",
   "metadata": {},
   "outputs": [],
   "source": [
    "# feature normalize\n",
    "numerical_features = ['likes', 'comments', 'tags_num', 'title_len', 'duration_sec', 'view']\n",
    "\n",
    "for var in numerical_features:\n",
    "    df[var] = MinMaxScaler().fit_transform(df[var].values.reshape(len(df), 1))"
   ]
  },
  {
   "cell_type": "code",
   "execution_count": 7,
   "id": "8a5d5bca",
   "metadata": {},
   "outputs": [],
   "source": [
    "one_hot_index = [5]\n",
    "onehotencorder = ColumnTransformer(\n",
    "    [('one_hot_encoder', OneHotEncoder(handle_unknown='ignore'), one_hot_index)],\n",
    "    remainder='passthrough'                     \n",
    ")\n",
    "\n",
    "X = df[['likes', 'comments', 'tags_num', 'title_len', 'duration_sec', 'category']].values\n",
    "y = df['view'].values\n",
    "\n",
    "X = onehotencorder.fit_transform(X)"
   ]
  },
  {
   "cell_type": "code",
   "execution_count": 8,
   "id": "9df4f54f",
   "metadata": {},
   "outputs": [
    {
     "data": {
      "text/plain": [
       "['likes', 'comments', 'tags_num', 'title_len', 'duration_sec']"
      ]
     },
     "execution_count": 8,
     "metadata": {},
     "output_type": "execute_result"
    }
   ],
   "source": [
    "features"
   ]
  },
  {
   "cell_type": "code",
   "execution_count": 9,
   "id": "636f2e08",
   "metadata": {},
   "outputs": [
    {
     "name": "stdout",
     "output_type": "stream",
     "text": [
      "Shape of X: (1500, 9)\n",
      "Shape of y: (1500,)\n"
     ]
    }
   ],
   "source": [
    "print(f\"Shape of X: {X.shape}\")\n",
    "print(f\"Shape of y: {y.shape}\")"
   ]
  },
  {
   "cell_type": "code",
   "execution_count": 10,
   "id": "a7305d9e",
   "metadata": {},
   "outputs": [],
   "source": [
    "X_train, X_test, y_train, y_test = train_test_split(\n",
    "    X, y, test_size=0.3, random_state=0\n",
    ")"
   ]
  },
  {
   "cell_type": "code",
   "execution_count": 11,
   "id": "df81c1ab",
   "metadata": {},
   "outputs": [
    {
     "name": "stdout",
     "output_type": "stream",
     "text": [
      "Interception :  149778096737.51468\n",
      "Coeficient :  [-1.49778097e+11 -1.49778097e+11 -1.49778097e+11 -1.49778097e+11\n",
      "  8.83933544e-01 -4.57630157e-02 -2.61306763e-04  1.39617920e-03\n",
      " -1.19972229e-02]\n",
      "Score:  0.9061099920413855\n"
     ]
    }
   ],
   "source": [
    "regressor = LinearRegression()\n",
    "regressor.fit(X_train, y_train)\n",
    "score = regressor.score(X_test, y_test)\n",
    "\n",
    "w_0 = regressor.intercept_\n",
    "w_1 = regressor.coef_\n",
    "\n",
    "print('Interception : ', w_0)\n",
    "print('Coeficient : ', w_1)\n",
    "print('Score: ', score)"
   ]
  },
  {
   "cell_type": "code",
   "execution_count": 12,
   "id": "87f6c897",
   "metadata": {},
   "outputs": [],
   "source": [
    "from sklearn.metrics import mean_squared_error, mean_absolute_error, r2_score\n",
    "\n",
    "pred = regressor.predict(X_test)\n",
    "mae = mean_absolute_error(y_test, pred)\n",
    "rmse = mean_squared_error(y_test, pred, squared=False)\n",
    "r2 = r2_score(y_test, pred)"
   ]
  },
  {
   "cell_type": "code",
   "execution_count": 13,
   "id": "efe21e8d",
   "metadata": {},
   "outputs": [
    {
     "name": "stdout",
     "output_type": "stream",
     "text": [
      "0.0033894179474254324\n",
      "0.010361336644379871\n",
      "0.9061099920413855\n"
     ]
    }
   ],
   "source": [
    "print(mae)\n",
    "print(rmse)\n",
    "print(r2)"
   ]
  },
  {
   "cell_type": "code",
   "execution_count": null,
   "id": "6f91785c",
   "metadata": {},
   "outputs": [],
   "source": []
  }
 ],
 "metadata": {
  "kernelspec": {
   "display_name": "Python 3",
   "language": "python",
   "name": "python3"
  },
  "language_info": {
   "codemirror_mode": {
    "name": "ipython",
    "version": 3
   },
   "file_extension": ".py",
   "mimetype": "text/x-python",
   "name": "python",
   "nbconvert_exporter": "python",
   "pygments_lexer": "ipython3",
   "version": "3.8.8"
  }
 },
 "nbformat": 4,
 "nbformat_minor": 5
}
